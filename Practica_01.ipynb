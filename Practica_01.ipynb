{
 "cells": [
  {
   "cell_type": "markdown",
   "metadata": {},
   "source": [
    "# 1 Lista"
   ]
  },
  {
   "cell_type": "code",
   "execution_count": 2,
   "metadata": {},
   "outputs": [
    {
     "name": "stdout",
     "output_type": "stream",
     "text": [
      "['trek', 'cannondale', 'redline', 'specialized']\n"
     ]
    }
   ],
   "source": [
    "bicycles = ['trek', 'cannondale', 'redline', 'specialized']\n",
    "print (bicycles)"
   ]
  },
  {
   "cell_type": "markdown",
   "metadata": {},
   "source": [
    "En el codigo anterior lo que hicimos fue hacer una lista de bicicletas, depues con el comando print lo que hizo fue imprimir esa lista   "
   ]
  },
  {
   "cell_type": "markdown",
   "metadata": {},
   "source": [
    "**1.1 Ingressando a los elemnetos de lista**"
   ]
  },
  {
   "cell_type": "code",
   "execution_count": 3,
   "metadata": {},
   "outputs": [
    {
     "name": "stdout",
     "output_type": "stream",
     "text": [
      "cannondale\n"
     ]
    }
   ],
   "source": [
    "bicycles = ['trek', 'cannondale', 'redline', 'specialized']\n",
    "print (bicycles[1])"
   ]
  },
  {
   "cell_type": "markdown",
   "metadata": {},
   "source": [
    "En este lo que hizo fue ingresar a un elemento de la lista en especifico empezando desde 0 al total de elemntos detro de lista "
   ]
  },
  {
   "cell_type": "markdown",
   "metadata": {},
   "source": [
    "# Tarea"
   ]
  },
  {
   "cell_type": "code",
   "execution_count": 8,
   "metadata": {},
   "outputs": [
    {
     "name": "stdout",
     "output_type": "stream",
     "text": [
      "Alberto\n",
      "Antonio\n",
      "Mario\n",
      "Cesar\n",
      "Carlos\n",
      "Adrian\n"
     ]
    }
   ],
   "source": [
    "names = ['alberto','antonio','mario','cesar','carlos','adrian']\n",
    "print(names[0].title())\n",
    "print(names[1].title())\n",
    "print(names[2].title())\n",
    "print(names[3].title())\n",
    "print(names[4].title())\n",
    "print(names[5].title())"
   ]
  },
  {
   "cell_type": "code",
   "execution_count": 9,
   "metadata": {},
   "outputs": [
    {
     "name": "stdout",
     "output_type": "stream",
     "text": [
      "alberto\n",
      "antonio\n",
      "mario\n",
      "cesar\n",
      "carlos\n",
      "adrian\n"
     ]
    }
   ],
   "source": [
    "for name in names:\n",
    "    print (name)"
   ]
  },
  {
   "cell_type": "markdown",
   "metadata": {},
   "source": [
    "En primer codigo lo que hizo es que de la lista names ingreso elemento por elemento\n",
    "En segundo codigo hizo lo mismo pero ahora con un for"
   ]
  },
  {
   "cell_type": "code",
   "execution_count": 11,
   "metadata": {},
   "outputs": [
    {
     "name": "stdout",
     "output_type": "stream",
     "text": [
      "Alberto Bienvenido\n",
      "Antonio Hola\n",
      "Mario ¿Como estas?\n",
      "Cesar ¿Todavia juegas?\n",
      "Carlos Hiciste la tarea?\n",
      "Adrian ¿Pasame la tarea?\n"
     ]
    }
   ],
   "source": [
    "names = ['alberto','antonio','mario','cesar','carlos','adrian']\n",
    "print(names[0].title(),'Bienvenido')\n",
    "print(names[1].title(),'Hola')\n",
    "print(names[2].title(),'¿Como estas?')\n",
    "print(names[3].title(),'¿Todavia juegas?')\n",
    "print(names[4].title(),'Hiciste la tarea?')\n",
    "print(names[5].title(),'¿Pasame la tarea?')"
   ]
  },
  {
   "cell_type": "code",
   "execution_count": 4,
   "metadata": {},
   "outputs": [
    {
     "name": "stdout",
     "output_type": "stream",
     "text": [
      "Me gustaria tener un iphone\n",
      "Me gustaria tener una laptop gamer\n",
      "Me gustaria tener un carro\n",
      "Me gustaria tener una bicileta\n",
      "Me gustaria tener una impresora\n",
      "Me gustaria tener dinero\n",
      "Me gustaria tener casa propia\n",
      "Me gustaria tener un xbox\n",
      "Me gustaria tener novia\n",
      "Me gustaria tener un reloj\n",
      "Me gustaria tener tenis adidas\n",
      "Me gustaria tener un viaje a cancun\n",
      "Me gustaria tener una mascota\n",
      "Me gustaria tener un idioma\n",
      "Me gustaria tener aparatos de gym\n"
     ]
    }
   ],
   "source": [
    "deseos = [' un iphone', ' una laptop gamer', ' un carro',' una bicileta', ' una impresora', ' dinero', ' casa propia', ' un xbox', ' novia', ' un reloj', ' tenis adidas', ' un viaje a cancun', ' una mascota', ' un idioma', ' aparatos de gym']\n",
    "for deseo in deseos:\n",
    "    print ('Me gustaria tener' + deseo)"
   ]
  },
  {
   "cell_type": "code",
   "execution_count": 6,
   "metadata": {},
   "outputs": [
    {
     "name": "stdout",
     "output_type": "stream",
     "text": [
      "Me gustaria tener dinero\n",
      "Me gustaria tener un iphone\n",
      "Me gustaria tener un reloj\n"
     ]
    }
   ],
   "source": [
    "print ('Me gustaria tener' + deseos[5])\n",
    "print ('Me gustaria tener' + deseos[0])\n",
    "print ('Me gustaria tener' + deseos[9])"
   ]
  },
  {
   "cell_type": "markdown",
   "metadata": {},
   "source": [
    "En el primer codigo se puede observar una lista de 15 elementos, despues esta un codigo con for el cual imprime cada uno de los elemntos en la lista, posteriormente hay 3 print ls cuales especifican que elementos se van a imprimir "
   ]
  },
  {
   "cell_type": "markdown",
   "metadata": {},
   "source": [
    "# 2 Modificando, agregando y removiendo elementos de la lista"
   ]
  },
  {
   "cell_type": "code",
   "execution_count": 13,
   "metadata": {},
   "outputs": [
    {
     "name": "stdout",
     "output_type": "stream",
     "text": [
      "['hoda', 'yamaha', ' suzuki']\n",
      "['ducati', 'yamaha', ' suzuki']\n"
     ]
    }
   ],
   "source": [
    "motorcycles = ['hoda', 'yamaha', ' suzuki']\n",
    "print(motorcycles)\n",
    "motorcycles[0] = 'ducati'\n",
    "print(motorcycles)"
   ]
  },
  {
   "cell_type": "code",
   "execution_count": 11,
   "metadata": {},
   "outputs": [
    {
     "name": "stdout",
     "output_type": "stream",
     "text": [
      "['honda', 'yamaha', 'suzuki']\n",
      "['honda', 'yamaha', 'suzuki', 'duscati']\n"
     ]
    }
   ],
   "source": [
    "motorcycles = ['honda', 'yamaha', 'suzuki']\n",
    "print(motorcycles)\n",
    "motorcycles.append('duscati')\n",
    "print(motorcycles)"
   ]
  },
  {
   "cell_type": "markdown",
   "metadata": {},
   "source": [
    "En el primer codigo nos muestra como agregar otro elemento a una lista indicando el la posicion donde lo queramos, pero elimina el elemento que esta en esa ubicaion.\n",
    "\n",
    "En el segundo codigo con append ingresamos otro elemento a la lista pero este lo ingresa al ultimo"
   ]
  },
  {
   "cell_type": "code",
   "execution_count": 24,
   "metadata": {},
   "outputs": [
    {
     "name": "stdout",
     "output_type": "stream",
     "text": [
      "['honda', 'yamaha', 'suzuki']\n",
      "['ducati', 'yamaha', ' suzuki']\n"
     ]
    }
   ],
   "source": [
    "motorcylces = ['honda', 'yamaha', 'suzuki']\n",
    "print(motorcylces)\n",
    "motorcylces.insert(0, 'ducati')\n",
    "print(motorcycles)"
   ]
  },
  {
   "cell_type": "code",
   "execution_count": 25,
   "metadata": {},
   "outputs": [
    {
     "name": "stdout",
     "output_type": "stream",
     "text": [
      "['honda', 'yamaha', 'suzuki']\n",
      "['yamaha', 'suzuki']\n"
     ]
    }
   ],
   "source": [
    "motorcycles = ['honda', 'yamaha', 'suzuki']\n",
    "print(motorcycles)\n",
    "del motorcycles[0]\n",
    "print (motorcycles)"
   ]
  },
  {
   "cell_type": "markdown",
   "metadata": {},
   "source": [
    "# Funciones"
   ]
  },
  {
   "cell_type": "code",
   "execution_count": 28,
   "metadata": {},
   "outputs": [
    {
     "name": "stdout",
     "output_type": "stream",
     "text": [
      "Hello!\n"
     ]
    }
   ],
   "source": [
    "def greet_user():\n",
    "    print('Hello!')\n",
    "greet_user()"
   ]
  },
  {
   "cell_type": "markdown",
   "metadata": {},
   "source": [
    "En el codigo anterior se puede ver que la funcion greet_user lo que va hacer es imprimir hola"
   ]
  },
  {
   "cell_type": "code",
   "execution_count": 1,
   "metadata": {},
   "outputs": [
    {
     "name": "stdout",
     "output_type": "stream",
     "text": [
      "Hello, Jessie!\n"
     ]
    }
   ],
   "source": [
    "def greet_user(username):\n",
    "    print('Hello, ' + username.title() + '!')\n",
    "greet_user('jessie')"
   ]
  },
  {
   "cell_type": "markdown",
   "metadata": {},
   "source": [
    "Este codigo hace lo mismo pero ahora imprime el nombre de usuario al que saludas dando un parametro"
   ]
  },
  {
   "cell_type": "markdown",
   "metadata": {},
   "source": [
    "**3.2.1 Positional Arguments**"
   ]
  },
  {
   "cell_type": "code",
   "execution_count": 5,
   "metadata": {},
   "outputs": [
    {
     "name": "stdout",
     "output_type": "stream",
     "text": [
      "\n",
      "I have a hamster.\n",
      "My hamster`s name is Harry.\n",
      "\n",
      "I have a dog.\n",
      "My dog`s name is Willie.\n"
     ]
    }
   ],
   "source": [
    "def describe_pet(animal_type, pet_name):\n",
    "    print('\\nI have a ' + animal_type + '.')\n",
    "    print('My ' + animal_type + '`s name is' + pet_name.title() + '.')\n",
    "describe_pet('hamster', ' harry')\n",
    "describe_pet('dog', ' willie')"
   ]
  },
  {
   "cell_type": "markdown",
   "metadata": {},
   "source": [
    "La funcion anterior define en el contructor los parametros que va a llevar como los son el tipo de animal y el nombre del animal."
   ]
  },
  {
   "cell_type": "code",
   "execution_count": 6,
   "metadata": {},
   "outputs": [
    {
     "name": "stdout",
     "output_type": "stream",
     "text": [
      "\n",
      "I have a hamster.\n",
      "My hamster`s name is Harry.\n"
     ]
    }
   ],
   "source": [
    "def describe_pet(animal_type, pet_name):\n",
    "    print('\\nI have a ' + animal_type + '.')\n",
    "    print('My ' + animal_type + '`s name is' + pet_name.title() + '.')\n",
    "describe_pet('hamster', ' harry')"
   ]
  },
  {
   "cell_type": "markdown",
   "metadata": {},
   "source": [
    "**3.2 Keword Arguments**"
   ]
  },
  {
   "cell_type": "code",
   "execution_count": 8,
   "metadata": {},
   "outputs": [
    {
     "name": "stdout",
     "output_type": "stream",
     "text": [
      "\n",
      "I have a hamster.\n",
      "My hamster`s name is Harry.\n"
     ]
    }
   ],
   "source": [
    "def describe_pet(animal_type, pet_name):\n",
    "    print('\\nI have a ' + animal_type + '.')\n",
    "    print('My ' + animal_type + '`s name is ' + pet_name.title() + \".\")\n",
    "describe_pet(animal_type='hamster', pet_name='harry')"
   ]
  },
  {
   "cell_type": "markdown",
   "metadata": {},
   "source": [
    "**3.3 Default Values**"
   ]
  },
  {
   "cell_type": "code",
   "execution_count": 9,
   "metadata": {},
   "outputs": [
    {
     "name": "stdout",
     "output_type": "stream",
     "text": [
      "\n",
      "I have a dog.\n",
      "My dog`s name is Willie.\n"
     ]
    }
   ],
   "source": [
    "def describe_pet(pet_name, animal_type='dog'):\n",
    "    print('\\nI have a ' + animal_type + '.')\n",
    "    print('My ' + animal_type + '`s name is ' + pet_name.title() + '.')\n",
    "describe_pet(pet_name='willie')"
   ]
  },
  {
   "cell_type": "markdown",
   "metadata": {},
   "source": [
    "En este codigo lo que hicimos fue que en lo parametros definimos el tipo de aniomal ya que siempre vamos a hablar de perros solo lo que mandariamos a que pusieran furea el nombre "
   ]
  },
  {
   "cell_type": "markdown",
   "metadata": {},
   "source": [
    "# 3.4 Tarea"
   ]
  },
  {
   "cell_type": "code",
   "execution_count": 42,
   "metadata": {
    "scrolled": true
   },
   "outputs": [
    {
     "name": "stdout",
     "output_type": "stream",
     "text": [
      "What size is the shirt? \n",
      "Big \n",
      "What message do you want in the shirt.\n",
      "Hello!!\n"
     ]
    }
   ],
   "source": [
    "def make_shirt(size_shirt, massage_text):\n",
    "    print('What size is the shirt? ' + '\\n' + size_shirt + ' \\nWhat message do you want in the shirt.' + '\\n' +massage_text )\n",
    "make_shirt(size_shirt='Big', massage_text='Hello!!')"
   ]
  },
  {
   "cell_type": "code",
   "execution_count": 48,
   "metadata": {},
   "outputs": [
    {
     "name": "stdout",
     "output_type": "stream",
     "text": [
      "What size is the shirt? \n",
      "Big \n",
      "What message do you want in the shirt.\n",
      "I <3 Python\n",
      "What size is the shirt? \n",
      "Median \n",
      "What message do you want in the shirt.\n",
      "I <3 Python\n",
      "What size is the shirt? \n",
      "small shirt \n",
      "What message do you want in the shirt.\n",
      "iphone\n"
     ]
    }
   ],
   "source": [
    "def make_shirt(size_shirt='Big', massage_text='I <3 Python'):\n",
    "    print('What size is the shirt? ' + '\\n' + size_shirt + ' \\nWhat message do you want in the shirt.' + '\\n' +massage_text )\n",
    "make_shirt()\n",
    "make_shirt(size_shirt='Median')\n",
    "make_shirt(size_shirt='small shirt', massage_text='iphone' )"
   ]
  },
  {
   "cell_type": "code",
   "execution_count": 5,
   "metadata": {},
   "outputs": [
    {
     "name": "stdout",
     "output_type": "stream",
     "text": [
      "Paris esta en Francia\n",
      "Washington esta en Estados Unidos\n",
      "Toronto esta en Canada\n"
     ]
    }
   ],
   "source": [
    "def describe_city(ciudad='Paris', pais='Francia'):\n",
    "    print (ciudad + ' esta en ' +  pais)\n",
    "describe_city()\n",
    "describe_city('Washington', 'Estados Unidos')\n",
    "describe_city('Toronto', 'Canada')"
   ]
  },
  {
   "cell_type": "markdown",
   "metadata": {},
   "source": [
    "# 4 Clases"
   ]
  },
  {
   "cell_type": "code",
   "execution_count": 10,
   "metadata": {},
   "outputs": [],
   "source": [
    "class Dog(): \n",
    "    \"\"\"Clase que ayuda a describir un perro\"\"\" \n",
    "    def __init__(self, name, age): \n",
    "        \"\"\"Inicializa los atributos name y age\"\"\" \n",
    "        self.name = name \n",
    "        self.age = age\n",
    "    \n",
    "    def sit(self): \n",
    "        \"\"\"Simula el comportamiento de un perro al sentarse\"\"\" \n",
    "        print(self.name.title() + \" is now sitting\")\n",
    "    \n",
    "    def roll_over(self): \n",
    "        \"\"\"Simula el comportamiento de un perro al girar\"\"\" \n",
    "        print(self.name.title() + \" ha dado una vuelta\")\n"
   ]
  },
  {
   "cell_type": "markdown",
   "metadata": {},
   "source": [
    "**Esta clase no imprime nada ya que no la hemos mandado a llamar**"
   ]
  },
  {
   "cell_type": "markdown",
   "metadata": {},
   "source": [
    "## 4.1 Definiendo un objeto de una clase"
   ]
  },
  {
   "cell_type": "code",
   "execution_count": 21,
   "metadata": {},
   "outputs": [
    {
     "name": "stdout",
     "output_type": "stream",
     "text": [
      "My dog’s name is Willie.\n",
      "My dog is 6 years old.\n",
      "Willie is now sitting\n",
      "Willie ha dado una vuelta\n"
     ]
    }
   ],
   "source": [
    "my_dog = Dog('willie',6) \n",
    "print(\"My dog’s name is \" + my_dog.name.title() + \".\") \n",
    "print(\"My dog is \" + str(my_dog.age) + \" years old.\")\n",
    "my_dog.name\n",
    "my_dog.sit()\n",
    "my_dog.roll_over()\n"
   ]
  },
  {
   "cell_type": "markdown",
   "metadata": {},
   "source": [
    "**Aqui ya estamos ocupando los atributos de la clase dog**"
   ]
  },
  {
   "cell_type": "markdown",
   "metadata": {},
   "source": [
    "# Tarea"
   ]
  },
  {
   "cell_type": "code",
   "execution_count": 55,
   "metadata": {},
   "outputs": [],
   "source": [
    "class Restaurant():\n",
    "    def __init__(self, restaurant_name, cousine_type, open_time, close_time):\n",
    "        self.restaurant_name = restaurant_name\n",
    "        self.cousine_type = cousine_type\n",
    "        self.open_time = 10\n",
    "        self.close_time = 23\n",
    "    \n",
    "    \n",
    "    def describe_resaturant(self):\n",
    "        print ('El nuevo restaurante ' + self.restaurant_name + ' hace comida ' + self.cousine_type)\n",
    "        \n",
    "    def open_restaurant(self):\n",
    "        print('El restaurant ' + self.restaurant_name + ' abre de Lunes a Domingo de ' + str(self.open_time) + 'hrs ' + str(self.close_time) + 'hrs')"
   ]
  },
  {
   "cell_type": "code",
   "execution_count": 56,
   "metadata": {},
   "outputs": [
    {
     "name": "stdout",
     "output_type": "stream",
     "text": [
      "Restaurant El garnachero\n",
      "El nuevo restaurante El garnachero hace comida mexicana\n",
      "El restaurant El garnachero abre de Lunes a Domingo de 10hrs 23hrs\n"
     ]
    }
   ],
   "source": [
    "my_restau = Restaurant('El garnachero', 'mexicana',10,23)\n",
    "print ('Restaurant ' + my_restau.restaurant_name)\n",
    "my_restau.describe_resaturant()\n",
    "my_restau.open_restaurant()"
   ]
  },
  {
   "cell_type": "code",
   "execution_count": 58,
   "metadata": {},
   "outputs": [
    {
     "name": "stdout",
     "output_type": "stream",
     "text": [
      "Restaurant Albertcrack\n",
      "El nuevo restaurante Albertcrack hace comida hamburger\n",
      "El restaurant Albertcrack abre de Lunes a Domingo de 10hrs 23hrs\n"
     ]
    }
   ],
   "source": [
    "primer_restau = Restaurant('Albertcrack', 'hamburger',12,22)\n",
    "print ('Restaurant ' + primer_restau.restaurant_name)\n",
    "primer_restau.describe_resaturant()\n",
    "primer_restau.open_restaurant()"
   ]
  },
  {
   "cell_type": "code",
   "execution_count": 59,
   "metadata": {},
   "outputs": [
    {
     "name": "stdout",
     "output_type": "stream",
     "text": [
      "Restaurant El nayarita\n",
      "El nuevo restaurante El nayarita hace comida mariscos\n",
      "El restaurant El nayarita abre de Lunes a Domingo de 10hrs 23hrs\n"
     ]
    }
   ],
   "source": [
    "segundo_restau = Restaurant('El nayarita', 'mariscos',13,22)\n",
    "print ('Restaurant ' + segundo_restau.restaurant_name)\n",
    "segundo_restau.describe_resaturant()\n",
    "segundo_restau.open_restaurant()"
   ]
  },
  {
   "cell_type": "code",
   "execution_count": 60,
   "metadata": {},
   "outputs": [
    {
     "name": "stdout",
     "output_type": "stream",
     "text": [
      "Restaurant Las ranas\n",
      "El nuevo restaurante Las ranas hace comida exotica\n",
      "El restaurant Las ranas abre de Lunes a Domingo de 10hrs 23hrs\n"
     ]
    }
   ],
   "source": [
    "tercer_restau = Restaurant('Las ranas', 'exotica',9,20)\n",
    "print ('Restaurant ' + tercer_restau.restaurant_name)\n",
    "tercer_restau.describe_resaturant()\n",
    "tercer_restau.open_restaurant()"
   ]
  },
  {
   "cell_type": "markdown",
   "metadata": {},
   "source": [
    "**Usuarios**"
   ]
  },
  {
   "cell_type": "code",
   "execution_count": 74,
   "metadata": {},
   "outputs": [],
   "source": [
    "class User():\n",
    "    def __init__(self,first_name,last_name,sex_user,number_user):\n",
    "        self.first_name=first_name\n",
    "        self.last_name=last_name\n",
    "        self.sex_user=sex_user\n",
    "        self.number_user=number_user\n",
    "        \n",
    "    def describe_user(self):\n",
    "         print ('Se ha creado el usuario ' + self.first_name + ' ' + self.last_name + ' con sexo ' + self.sex_user + ' y numero ' + str(self.number_user))\n",
    "                    \n",
    "    def gret_user(self):\n",
    "        print (self.first_name + ' ' + self.last_name + ' gracias por crear tu cuenta Banamex')"
   ]
  },
  {
   "cell_type": "code",
   "execution_count": 75,
   "metadata": {},
   "outputs": [
    {
     "name": "stdout",
     "output_type": "stream",
     "text": [
      "Se ha creado el usuario Alberto Ambrosio con sexo Masculino y numero 789456123\n",
      "Alberto Ambrosio gracias por crear tu cuenta Banamex\n"
     ]
    }
   ],
   "source": [
    "user=User('Alberto', 'Ambrosio', 'Masculino', 789456123)\n",
    "user.describe_user()\n",
    "user.gret_user()"
   ]
  },
  {
   "cell_type": "code",
   "execution_count": 76,
   "metadata": {},
   "outputs": [
    {
     "name": "stdout",
     "output_type": "stream",
     "text": [
      "Se ha creado el usuario Mario Lopez con sexo Masculino y numero 78945874\n",
      "Mario Lopez gracias por crear tu cuenta Banamex\n"
     ]
    }
   ],
   "source": [
    "user1=User('Mario', 'Lopez', 'Masculino', 78945874)\n",
    "user1.describe_user()\n",
    "user1.gret_user()"
   ]
  },
  {
   "cell_type": "code",
   "execution_count": 77,
   "metadata": {},
   "outputs": [
    {
     "name": "stdout",
     "output_type": "stream",
     "text": [
      "Se ha creado el usuario Liliana Rodriguez con sexo Femenino y numero 48976512\n",
      "Liliana Rodriguez gracias por crear tu cuenta Banamex\n"
     ]
    }
   ],
   "source": [
    "user2=User('Liliana', 'Rodriguez', 'Femenino', 48976512)\n",
    "user2.describe_user()\n",
    "user2.gret_user()"
   ]
  },
  {
   "cell_type": "code",
   "execution_count": 78,
   "metadata": {},
   "outputs": [
    {
     "name": "stdout",
     "output_type": "stream",
     "text": [
      "Se ha creado el usuario Cesar Mendez con sexo Masculino y numero 89475123\n",
      "Cesar Mendez gracias por crear tu cuenta Banamex\n"
     ]
    }
   ],
   "source": [
    "user3=User('Cesar', 'Mendez', 'Masculino', 89475123)\n",
    "user3.describe_user()\n",
    "user3.gret_user()"
   ]
  },
  {
   "cell_type": "code",
   "execution_count": 79,
   "metadata": {},
   "outputs": [
    {
     "name": "stdout",
     "output_type": "stream",
     "text": [
      "Se ha creado el usuario Aldo Cruz con sexo Masculino y numero 782036123\n",
      "Aldo Cruz gracias por crear tu cuenta Banamex\n"
     ]
    }
   ],
   "source": [
    "user4=User('Aldo', 'Cruz', 'Masculino', 782036123)\n",
    "user4.describe_user()\n",
    "user4.gret_user()"
   ]
  },
  {
   "cell_type": "code",
   "execution_count": 80,
   "metadata": {},
   "outputs": [
    {
     "name": "stdout",
     "output_type": "stream",
     "text": [
      "Se ha creado el usuario Carlos Moises con sexo Masculino y numero 901256123\n",
      "Carlos Moises gracias por crear tu cuenta Banamex\n"
     ]
    }
   ],
   "source": [
    "user5=User('Carlos', 'Moises', 'Masculino', 901256123)\n",
    "user5.describe_user()\n",
    "user5.gret_user()"
   ]
  },
  {
   "cell_type": "code",
   "execution_count": 81,
   "metadata": {},
   "outputs": [
    {
     "name": "stdout",
     "output_type": "stream",
     "text": [
      "Se ha creado el usuario Marina Enciso con sexo Femenino y numero 5112283123\n",
      "Marina Enciso gracias por crear tu cuenta Banamex\n"
     ]
    }
   ],
   "source": [
    "user6=User('Marina', 'Enciso', 'Femenino', 5112283123)\n",
    "user6.describe_user()\n",
    "user6.gret_user()"
   ]
  },
  {
   "cell_type": "code",
   "execution_count": 82,
   "metadata": {},
   "outputs": [
    {
     "name": "stdout",
     "output_type": "stream",
     "text": [
      "Se ha creado el usuario Carla Hernandez con sexo Femenino y numero 35789510\n",
      "Carla Hernandez gracias por crear tu cuenta Banamex\n"
     ]
    }
   ],
   "source": [
    "user7=User('Carla', 'Hernandez', 'Femenino', 35789510)\n",
    "user7.describe_user()\n",
    "user7.gret_user()"
   ]
  },
  {
   "cell_type": "code",
   "execution_count": 83,
   "metadata": {},
   "outputs": [
    {
     "name": "stdout",
     "output_type": "stream",
     "text": [
      "Se ha creado el usuario Claudia Alvarez con sexo Femenino y numero 1597425823\n",
      "Claudia Alvarez gracias por crear tu cuenta Banamex\n"
     ]
    }
   ],
   "source": [
    "user8=User('Claudia', 'Alvarez', 'Femenino', 1597425823)\n",
    "user8.describe_user()\n",
    "user8.gret_user()"
   ]
  },
  {
   "cell_type": "code",
   "execution_count": 84,
   "metadata": {},
   "outputs": [
    {
     "name": "stdout",
     "output_type": "stream",
     "text": [
      "Se ha creado el usuario Luis Ambrosio con sexo Masculino y numero 7820169\n",
      "Luis Ambrosio gracias por crear tu cuenta Banamex\n"
     ]
    }
   ],
   "source": [
    "user9=User('Luis', 'Ambrosio', 'Masculino', 7820169)\n",
    "user9.describe_user()\n",
    "user9.gret_user()"
   ]
  },
  {
   "cell_type": "code",
   "execution_count": 85,
   "metadata": {},
   "outputs": [
    {
     "name": "stdout",
     "output_type": "stream",
     "text": [
      "Se ha creado el usuario Diana Perez con sexo Femenino y numero 12356789\n",
      "Diana Perez gracias por crear tu cuenta Banamex\n"
     ]
    }
   ],
   "source": [
    "user10=User('Diana', 'Perez', 'Femenino', 12356789)\n",
    "user10.describe_user()\n",
    "user10.gret_user()"
   ]
  },
  {
   "cell_type": "code",
   "execution_count": null,
   "metadata": {},
   "outputs": [],
   "source": []
  }
 ],
 "metadata": {
  "kernelspec": {
   "display_name": "Python 2",
   "language": "python",
   "name": "python2"
  },
  "language_info": {
   "codemirror_mode": {
    "name": "ipython",
    "version": 2
   },
   "file_extension": ".py",
   "mimetype": "text/x-python",
   "name": "python",
   "nbconvert_exporter": "python",
   "pygments_lexer": "ipython2",
   "version": "2.7.16"
  }
 },
 "nbformat": 4,
 "nbformat_minor": 2
}
